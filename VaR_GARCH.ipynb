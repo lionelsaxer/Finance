{
 "cells": [
  {
   "cell_type": "markdown",
   "metadata": {},
   "source": [
    "# GARCH-Based VaR Estimation for FX"
   ]
  },
  {
   "cell_type": "code",
   "execution_count": 138,
   "metadata": {},
   "outputs": [],
   "source": [
    "import numpy as np, pandas as pd\n",
    "import matplotlib.pyplot as plt\n",
    "import yfinance as yf\n",
    "from arch import arch_model\n",
    "from scipy.stats import norm, chi2"
   ]
  },
  {
   "cell_type": "markdown",
   "metadata": {},
   "source": [
    "In this small project, we use GARCH-based VaR estimation for the daily returns of the EURCHF. Relying on GARCH allows us to capture the volatility clustering exhibited by FX markets and capture the volatility spikes caused by central bank interventions."
   ]
  },
  {
   "cell_type": "code",
   "execution_count": 139,
   "metadata": {},
   "outputs": [
    {
     "name": "stderr",
     "output_type": "stream",
     "text": [
      "[*********************100%***********************]  1 of 1 completed\n"
     ]
    }
   ],
   "source": [
    "# Fetch historical EURCHF exchange rate\n",
    "df_eurchf = yf.download(\"EURCHF=X\", start='2015-01-01', end='2025-01-01', auto_adjust=True)"
   ]
  },
  {
   "cell_type": "code",
   "execution_count": 140,
   "metadata": {},
   "outputs": [
    {
     "data": {
      "text/html": [
       "<div>\n",
       "<style scoped>\n",
       "    .dataframe tbody tr th:only-of-type {\n",
       "        vertical-align: middle;\n",
       "    }\n",
       "\n",
       "    .dataframe tbody tr th {\n",
       "        vertical-align: top;\n",
       "    }\n",
       "\n",
       "    .dataframe thead tr th {\n",
       "        text-align: left;\n",
       "    }\n",
       "\n",
       "    .dataframe thead tr:last-of-type th {\n",
       "        text-align: right;\n",
       "    }\n",
       "</style>\n",
       "<table border=\"1\" class=\"dataframe\">\n",
       "  <thead>\n",
       "    <tr>\n",
       "      <th>Price</th>\n",
       "      <th>Close</th>\n",
       "      <th>High</th>\n",
       "      <th>Low</th>\n",
       "      <th>Open</th>\n",
       "      <th>Volume</th>\n",
       "    </tr>\n",
       "    <tr>\n",
       "      <th>Ticker</th>\n",
       "      <th>EURCHF=X</th>\n",
       "      <th>EURCHF=X</th>\n",
       "      <th>EURCHF=X</th>\n",
       "      <th>EURCHF=X</th>\n",
       "      <th>EURCHF=X</th>\n",
       "    </tr>\n",
       "    <tr>\n",
       "      <th>Date</th>\n",
       "      <th></th>\n",
       "      <th></th>\n",
       "      <th></th>\n",
       "      <th></th>\n",
       "      <th></th>\n",
       "    </tr>\n",
       "  </thead>\n",
       "  <tbody>\n",
       "    <tr>\n",
       "      <th>2015-01-01</th>\n",
       "      <td>1.20279</td>\n",
       "      <td>1.20279</td>\n",
       "      <td>1.20279</td>\n",
       "      <td>1.20279</td>\n",
       "      <td>0</td>\n",
       "    </tr>\n",
       "    <tr>\n",
       "      <th>2015-01-02</th>\n",
       "      <td>1.20210</td>\n",
       "      <td>1.20270</td>\n",
       "      <td>1.20090</td>\n",
       "      <td>1.20219</td>\n",
       "      <td>0</td>\n",
       "    </tr>\n",
       "    <tr>\n",
       "      <th>2015-01-05</th>\n",
       "      <td>1.20150</td>\n",
       "      <td>1.20209</td>\n",
       "      <td>1.20080</td>\n",
       "      <td>1.20150</td>\n",
       "      <td>0</td>\n",
       "    </tr>\n",
       "    <tr>\n",
       "      <th>2015-01-06</th>\n",
       "      <td>1.20133</td>\n",
       "      <td>1.20190</td>\n",
       "      <td>1.20080</td>\n",
       "      <td>1.20130</td>\n",
       "      <td>0</td>\n",
       "    </tr>\n",
       "    <tr>\n",
       "      <th>2015-01-07</th>\n",
       "      <td>1.20090</td>\n",
       "      <td>1.20118</td>\n",
       "      <td>1.19980</td>\n",
       "      <td>1.20080</td>\n",
       "      <td>0</td>\n",
       "    </tr>\n",
       "    <tr>\n",
       "      <th>...</th>\n",
       "      <td>...</td>\n",
       "      <td>...</td>\n",
       "      <td>...</td>\n",
       "      <td>...</td>\n",
       "      <td>...</td>\n",
       "    </tr>\n",
       "    <tr>\n",
       "      <th>2024-12-25</th>\n",
       "      <td>0.93870</td>\n",
       "      <td>0.93710</td>\n",
       "      <td>0.93640</td>\n",
       "      <td>0.93650</td>\n",
       "      <td>0</td>\n",
       "    </tr>\n",
       "    <tr>\n",
       "      <th>2024-12-26</th>\n",
       "      <td>0.93525</td>\n",
       "      <td>0.93804</td>\n",
       "      <td>0.93508</td>\n",
       "      <td>0.93525</td>\n",
       "      <td>0</td>\n",
       "    </tr>\n",
       "    <tr>\n",
       "      <th>2024-12-27</th>\n",
       "      <td>0.93683</td>\n",
       "      <td>0.94050</td>\n",
       "      <td>0.93599</td>\n",
       "      <td>0.93683</td>\n",
       "      <td>0</td>\n",
       "    </tr>\n",
       "    <tr>\n",
       "      <th>2024-12-30</th>\n",
       "      <td>0.94052</td>\n",
       "      <td>0.94403</td>\n",
       "      <td>0.93980</td>\n",
       "      <td>0.94052</td>\n",
       "      <td>0</td>\n",
       "    </tr>\n",
       "    <tr>\n",
       "      <th>2024-12-31</th>\n",
       "      <td>0.93990</td>\n",
       "      <td>0.94270</td>\n",
       "      <td>0.93778</td>\n",
       "      <td>0.93990</td>\n",
       "      <td>0</td>\n",
       "    </tr>\n",
       "  </tbody>\n",
       "</table>\n",
       "<p>2607 rows × 5 columns</p>\n",
       "</div>"
      ],
      "text/plain": [
       "Price         Close     High      Low     Open   Volume\n",
       "Ticker     EURCHF=X EURCHF=X EURCHF=X EURCHF=X EURCHF=X\n",
       "Date                                                   \n",
       "2015-01-01  1.20279  1.20279  1.20279  1.20279        0\n",
       "2015-01-02  1.20210  1.20270  1.20090  1.20219        0\n",
       "2015-01-05  1.20150  1.20209  1.20080  1.20150        0\n",
       "2015-01-06  1.20133  1.20190  1.20080  1.20130        0\n",
       "2015-01-07  1.20090  1.20118  1.19980  1.20080        0\n",
       "...             ...      ...      ...      ...      ...\n",
       "2024-12-25  0.93870  0.93710  0.93640  0.93650        0\n",
       "2024-12-26  0.93525  0.93804  0.93508  0.93525        0\n",
       "2024-12-27  0.93683  0.94050  0.93599  0.93683        0\n",
       "2024-12-30  0.94052  0.94403  0.93980  0.94052        0\n",
       "2024-12-31  0.93990  0.94270  0.93778  0.93990        0\n",
       "\n",
       "[2607 rows x 5 columns]"
      ]
     },
     "execution_count": 140,
     "metadata": {},
     "output_type": "execute_result"
    }
   ],
   "source": [
    "df_eurchf"
   ]
  },
  {
   "cell_type": "code",
   "execution_count": 141,
   "metadata": {},
   "outputs": [],
   "source": [
    "# Eliminate MultiIndex\n",
    "df_eurchf.columns = df_eurchf.columns.get_level_values(0)\n",
    "df_eurchf.columns.name = None"
   ]
  },
  {
   "cell_type": "code",
   "execution_count": 142,
   "metadata": {},
   "outputs": [
    {
     "data": {
      "text/html": [
       "<div>\n",
       "<style scoped>\n",
       "    .dataframe tbody tr th:only-of-type {\n",
       "        vertical-align: middle;\n",
       "    }\n",
       "\n",
       "    .dataframe tbody tr th {\n",
       "        vertical-align: top;\n",
       "    }\n",
       "\n",
       "    .dataframe thead th {\n",
       "        text-align: right;\n",
       "    }\n",
       "</style>\n",
       "<table border=\"1\" class=\"dataframe\">\n",
       "  <thead>\n",
       "    <tr style=\"text-align: right;\">\n",
       "      <th></th>\n",
       "      <th>Close</th>\n",
       "      <th>High</th>\n",
       "      <th>Low</th>\n",
       "      <th>Open</th>\n",
       "      <th>Volume</th>\n",
       "    </tr>\n",
       "    <tr>\n",
       "      <th>Date</th>\n",
       "      <th></th>\n",
       "      <th></th>\n",
       "      <th></th>\n",
       "      <th></th>\n",
       "      <th></th>\n",
       "    </tr>\n",
       "  </thead>\n",
       "  <tbody>\n",
       "    <tr>\n",
       "      <th>2015-01-01</th>\n",
       "      <td>1.20279</td>\n",
       "      <td>1.20279</td>\n",
       "      <td>1.20279</td>\n",
       "      <td>1.20279</td>\n",
       "      <td>0</td>\n",
       "    </tr>\n",
       "    <tr>\n",
       "      <th>2015-01-02</th>\n",
       "      <td>1.20210</td>\n",
       "      <td>1.20270</td>\n",
       "      <td>1.20090</td>\n",
       "      <td>1.20219</td>\n",
       "      <td>0</td>\n",
       "    </tr>\n",
       "    <tr>\n",
       "      <th>2015-01-05</th>\n",
       "      <td>1.20150</td>\n",
       "      <td>1.20209</td>\n",
       "      <td>1.20080</td>\n",
       "      <td>1.20150</td>\n",
       "      <td>0</td>\n",
       "    </tr>\n",
       "    <tr>\n",
       "      <th>2015-01-06</th>\n",
       "      <td>1.20133</td>\n",
       "      <td>1.20190</td>\n",
       "      <td>1.20080</td>\n",
       "      <td>1.20130</td>\n",
       "      <td>0</td>\n",
       "    </tr>\n",
       "    <tr>\n",
       "      <th>2015-01-07</th>\n",
       "      <td>1.20090</td>\n",
       "      <td>1.20118</td>\n",
       "      <td>1.19980</td>\n",
       "      <td>1.20080</td>\n",
       "      <td>0</td>\n",
       "    </tr>\n",
       "    <tr>\n",
       "      <th>...</th>\n",
       "      <td>...</td>\n",
       "      <td>...</td>\n",
       "      <td>...</td>\n",
       "      <td>...</td>\n",
       "      <td>...</td>\n",
       "    </tr>\n",
       "    <tr>\n",
       "      <th>2024-12-25</th>\n",
       "      <td>0.93870</td>\n",
       "      <td>0.93710</td>\n",
       "      <td>0.93640</td>\n",
       "      <td>0.93650</td>\n",
       "      <td>0</td>\n",
       "    </tr>\n",
       "    <tr>\n",
       "      <th>2024-12-26</th>\n",
       "      <td>0.93525</td>\n",
       "      <td>0.93804</td>\n",
       "      <td>0.93508</td>\n",
       "      <td>0.93525</td>\n",
       "      <td>0</td>\n",
       "    </tr>\n",
       "    <tr>\n",
       "      <th>2024-12-27</th>\n",
       "      <td>0.93683</td>\n",
       "      <td>0.94050</td>\n",
       "      <td>0.93599</td>\n",
       "      <td>0.93683</td>\n",
       "      <td>0</td>\n",
       "    </tr>\n",
       "    <tr>\n",
       "      <th>2024-12-30</th>\n",
       "      <td>0.94052</td>\n",
       "      <td>0.94403</td>\n",
       "      <td>0.93980</td>\n",
       "      <td>0.94052</td>\n",
       "      <td>0</td>\n",
       "    </tr>\n",
       "    <tr>\n",
       "      <th>2024-12-31</th>\n",
       "      <td>0.93990</td>\n",
       "      <td>0.94270</td>\n",
       "      <td>0.93778</td>\n",
       "      <td>0.93990</td>\n",
       "      <td>0</td>\n",
       "    </tr>\n",
       "  </tbody>\n",
       "</table>\n",
       "<p>2607 rows × 5 columns</p>\n",
       "</div>"
      ],
      "text/plain": [
       "              Close     High      Low     Open  Volume\n",
       "Date                                                  \n",
       "2015-01-01  1.20279  1.20279  1.20279  1.20279       0\n",
       "2015-01-02  1.20210  1.20270  1.20090  1.20219       0\n",
       "2015-01-05  1.20150  1.20209  1.20080  1.20150       0\n",
       "2015-01-06  1.20133  1.20190  1.20080  1.20130       0\n",
       "2015-01-07  1.20090  1.20118  1.19980  1.20080       0\n",
       "...             ...      ...      ...      ...     ...\n",
       "2024-12-25  0.93870  0.93710  0.93640  0.93650       0\n",
       "2024-12-26  0.93525  0.93804  0.93508  0.93525       0\n",
       "2024-12-27  0.93683  0.94050  0.93599  0.93683       0\n",
       "2024-12-30  0.94052  0.94403  0.93980  0.94052       0\n",
       "2024-12-31  0.93990  0.94270  0.93778  0.93990       0\n",
       "\n",
       "[2607 rows x 5 columns]"
      ]
     },
     "execution_count": 142,
     "metadata": {},
     "output_type": "execute_result"
    }
   ],
   "source": [
    "df_eurchf"
   ]
  },
  {
   "cell_type": "code",
   "execution_count": 143,
   "metadata": {},
   "outputs": [
    {
     "data": {
      "image/png": "[encoded data removed]",
      "text/plain": [
       "<Figure size 640x480 with 1 Axes>"
      ]
     },
     "metadata": {},
     "output_type": "display_data"
    }
   ],
   "source": [
    "# Let's have a quick look at the last year\n",
    "df_eurchf_ly = df_eurchf[df_eurchf.index.year == 2024]\n",
    "plt.plot(df_eurchf_ly.index, df_eurchf_ly[\"Close\"])\n",
    "plt.title(\"EURCHF in 2024\");"
   ]
  },
  {
   "cell_type": "code",
   "execution_count": 144,
   "metadata": {},
   "outputs": [],
   "source": [
    "# Compute returns and rescale for more efficient modelling\n",
    "returns = 1000 * np.log(df_eurchf[\"Close\"] / df_eurchf[\"Close\"].shift(1)).dropna()"
   ]
  },
  {
   "cell_type": "code",
   "execution_count": 145,
   "metadata": {},
   "outputs": [
    {
     "data": {
      "text/plain": [
       "Date\n",
       "2015-01-02   -0.573817\n",
       "2015-01-05   -0.499235\n",
       "2015-01-06   -0.141593\n",
       "2015-01-07   -0.357991\n",
       "2015-01-08    0.000000\n",
       "                ...   \n",
       "2024-12-25    4.099185\n",
       "2024-12-26   -3.682105\n",
       "2024-12-27    1.687962\n",
       "2024-12-30    3.931083\n",
       "2024-12-31   -0.659435\n",
       "Name: Close, Length: 2606, dtype: float64"
      ]
     },
     "execution_count": 145,
     "metadata": {},
     "output_type": "execute_result"
    }
   ],
   "source": [
    "returns"
   ]
  },
  {
   "cell_type": "markdown",
   "metadata": {},
   "source": [
    "Using the past 500 days to compute the GARCH(1,1) parameters and a confidence level of $1-\\alpha=0.99$, we compute the VaR and backtest it against actual losses. The GARCH(1,1) is defined as\n",
    "$$\\sigma_t^2= \\alpha_0+\\alpha_1\\epsilon_{t-1}^2+\\beta_1\\sigma_{t-1}^2$$\n",
    "Compared to ARCH, GARCH also incorporates the past variances $\\sigma_{t-1}^2$, allowing the model to capture long-term persistance in volatility clustering more efficiently with fewer parameters."
   ]
  },
  {
   "cell_type": "code",
   "execution_count": 146,
   "metadata": {},
   "outputs": [],
   "source": [
    "# Rolling window\n",
    "window_size = 500\n",
    "confid_lvl = .99\n",
    "z_score = norm.ppf(1 - confid_lvl)\n",
    "\n",
    "# Define containers to store the results\n",
    "var_estimates = []\n",
    "realized_losses = []\n",
    "\n",
    "# Iterate over 500 day window\n",
    "for i in range(window_size, len(returns)):\n",
    "    train_data = returns[i - window_size : i]\n",
    "    garch_model = arch_model(train_data, vol=\"Garch\", p=1, q=1)\n",
    "    garch_fit = garch_model.fit(disp=\"off\")\n",
    "    \n",
    "    # Predict 1-day ahead volatility\n",
    "    pred = garch_fit.forecast(horizon=1)\n",
    "    vol_pred = np.sqrt(pred.variance.iloc[-1, 0])\n",
    "    \n",
    "    # Compute 1-day ahead VaR\n",
    "    var_99 = z_score * vol_pred\n",
    "    var_estimates.append(var_99)\n",
    "    \n",
    "    # Store actual return for backtesting\n",
    "    realized_losses.append(returns.iloc[i])"
   ]
  },
  {
   "cell_type": "code",
   "execution_count": 147,
   "metadata": {},
   "outputs": [],
   "source": [
    "# Convert to DataFrame\n",
    "df_var = pd.DataFrame({\n",
    "    \"VaR_99\": var_estimates,\n",
    "    \"Realized_Loss\": realized_losses,\n",
    "    }, index=returns.index[window_size:])"
   ]
  },
  {
   "cell_type": "code",
   "execution_count": 148,
   "metadata": {},
   "outputs": [
    {
     "data": {
      "text/html": [
       "<div>\n",
       "<style scoped>\n",
       "    .dataframe tbody tr th:only-of-type {\n",
       "        vertical-align: middle;\n",
       "    }\n",
       "\n",
       "    .dataframe tbody tr th {\n",
       "        vertical-align: top;\n",
       "    }\n",
       "\n",
       "    .dataframe thead th {\n",
       "        text-align: right;\n",
       "    }\n",
       "</style>\n",
       "<table border=\"1\" class=\"dataframe\">\n",
       "  <thead>\n",
       "    <tr style=\"text-align: right;\">\n",
       "      <th></th>\n",
       "      <th>VaR_99</th>\n",
       "      <th>Realized_Loss</th>\n",
       "    </tr>\n",
       "    <tr>\n",
       "      <th>Date</th>\n",
       "      <th></th>\n",
       "      <th></th>\n",
       "    </tr>\n",
       "  </thead>\n",
       "  <tbody>\n",
       "    <tr>\n",
       "      <th>2016-12-02</th>\n",
       "      <td>-7.583636</td>\n",
       "      <td>0.427032</td>\n",
       "    </tr>\n",
       "    <tr>\n",
       "      <th>2016-12-05</th>\n",
       "      <td>-7.622681</td>\n",
       "      <td>-4.296881</td>\n",
       "    </tr>\n",
       "    <tr>\n",
       "      <th>2016-12-06</th>\n",
       "      <td>-7.675825</td>\n",
       "      <td>9.480615</td>\n",
       "    </tr>\n",
       "    <tr>\n",
       "      <th>2016-12-07</th>\n",
       "      <td>-7.785108</td>\n",
       "      <td>-0.526350</td>\n",
       "    </tr>\n",
       "    <tr>\n",
       "      <th>2016-12-08</th>\n",
       "      <td>-7.813175</td>\n",
       "      <td>0.683288</td>\n",
       "    </tr>\n",
       "    <tr>\n",
       "      <th>...</th>\n",
       "      <td>...</td>\n",
       "      <td>...</td>\n",
       "    </tr>\n",
       "    <tr>\n",
       "      <th>2024-12-25</th>\n",
       "      <td>-7.222960</td>\n",
       "      <td>4.099185</td>\n",
       "    </tr>\n",
       "    <tr>\n",
       "      <th>2024-12-26</th>\n",
       "      <td>-7.348144</td>\n",
       "      <td>-3.682105</td>\n",
       "    </tr>\n",
       "    <tr>\n",
       "      <th>2024-12-27</th>\n",
       "      <td>-7.384613</td>\n",
       "      <td>1.687962</td>\n",
       "    </tr>\n",
       "    <tr>\n",
       "      <th>2024-12-30</th>\n",
       "      <td>-7.269544</td>\n",
       "      <td>3.931083</td>\n",
       "    </tr>\n",
       "    <tr>\n",
       "      <th>2024-12-31</th>\n",
       "      <td>-7.379939</td>\n",
       "      <td>-0.659435</td>\n",
       "    </tr>\n",
       "  </tbody>\n",
       "</table>\n",
       "<p>2106 rows × 2 columns</p>\n",
       "</div>"
      ],
      "text/plain": [
       "              VaR_99  Realized_Loss\n",
       "Date                               \n",
       "2016-12-02 -7.583636       0.427032\n",
       "2016-12-05 -7.622681      -4.296881\n",
       "2016-12-06 -7.675825       9.480615\n",
       "2016-12-07 -7.785108      -0.526350\n",
       "2016-12-08 -7.813175       0.683288\n",
       "...              ...            ...\n",
       "2024-12-25 -7.222960       4.099185\n",
       "2024-12-26 -7.348144      -3.682105\n",
       "2024-12-27 -7.384613       1.687962\n",
       "2024-12-30 -7.269544       3.931083\n",
       "2024-12-31 -7.379939      -0.659435\n",
       "\n",
       "[2106 rows x 2 columns]"
      ]
     },
     "execution_count": 148,
     "metadata": {},
     "output_type": "execute_result"
    }
   ],
   "source": [
    "df_var"
   ]
  },
  {
   "cell_type": "markdown",
   "metadata": {},
   "source": [
    "## Backtesting"
   ]
  },
  {
   "cell_type": "markdown",
   "metadata": {},
   "source": [
    "Counting VaR Breaches, i.e., how many times realized loss < VaR"
   ]
  },
  {
   "cell_type": "code",
   "execution_count": 149,
   "metadata": {},
   "outputs": [],
   "source": [
    "df_var[\"Breach\"] = df_var[\"Realized_Loss\"] < df_var[\"VaR_99\"]\n",
    "n_breaches = df_var[\"Breach\"].sum()\n",
    "n_obs = len(df_var)"
   ]
  },
  {
   "cell_type": "markdown",
   "metadata": {},
   "source": [
    "**Kupiec Likelihood Ratio Test**: Evaluate if observed breaches match the expected breaches under the assumed confidence level. The null hypothesis assumes that the observed violation rate $\\frac{S_n}{n}$ is statistically equal to the expected violation rate $p=1-\\alpha$."
   ]
  },
  {
   "cell_type": "markdown",
   "metadata": {},
   "source": [
    "$$LR_{uc}=-2\\ln\\left(\\frac{(1-p)^{n-S_n}p^{S_n}}{(1-\\frac{S_n}{n})^{n-S_n}(\\frac{S_n}{n})^{S_n}}\\right)\\sim\\chi_1^2$$"
   ]
  },
  {
   "cell_type": "code",
   "execution_count": 150,
   "metadata": {},
   "outputs": [],
   "source": [
    "p_fail = 1 - confid_lvl\n",
    "obs_fail_rate = n_breaches / n_obs\n",
    "LR_uc = -2 * (np.log((1 - p_fail) ** (n_obs - n_breaches) * p_fail ** n_breaches) -\n",
    "              np.log((1 - obs_fail_rate) ** (n_obs - n_breaches) * obs_fail_rate ** n_breaches))"
   ]
  },
  {
   "cell_type": "code",
   "execution_count": 151,
   "metadata": {},
   "outputs": [],
   "source": [
    "p_val = 1 - chi2.cdf(LR_uc, df=1)"
   ]
  },
  {
   "cell_type": "code",
   "execution_count": 152,
   "metadata": {},
   "outputs": [
    {
     "name": "stdout",
     "output_type": "stream",
     "text": [
      "Percentage of VaR Breaches: 1.80%\n",
      "Kupiec Test Statistic: 11.114\n",
      "p-Value: 0.001\n"
     ]
    }
   ],
   "source": [
    "print(f\"Percentage of VaR Breaches: {n_breaches / n_obs:.2%}\")\n",
    "print(f\"Kupiec Test Statistic: {LR_uc:.3f}\")\n",
    "print(f\"p-Value: {p_val:.3f}\")"
   ]
  },
  {
   "cell_type": "markdown",
   "metadata": {},
   "source": [
    "As the p-value is less than $\\alpha$, we have to reject $H_0$. Hence, the observed violation rate is *not* statistically equal to the expected violation rate. This suggests that our model is not well calibrated. Since we would expect fewer VaR breaches, let's try to increase the window size and repeat the test."
   ]
  },
  {
   "cell_type": "code",
   "execution_count": 153,
   "metadata": {},
   "outputs": [],
   "source": [
    "# Rolling window\n",
    "window_size = 1000\n",
    "confid_lvl = .99\n",
    "z_score = norm.ppf(1 - confid_lvl)\n",
    "\n",
    "# Define containers to store the results\n",
    "var_estimates = []\n",
    "realized_losses = []\n",
    "\n",
    "# Iterate over 500 day window\n",
    "for i in range(window_size, len(returns)):\n",
    "    train_data = returns[i - window_size : i]\n",
    "    garch_model = arch_model(train_data, vol=\"Garch\", p=1, q=1)\n",
    "    garch_fit = garch_model.fit(disp=\"off\")\n",
    "    \n",
    "    # Predict 1-day ahead volatility\n",
    "    pred = garch_fit.forecast(horizon=1)\n",
    "    vol_pred = np.sqrt(pred.variance.iloc[-1, 0])\n",
    "    \n",
    "    # Compute 1-day ahead VaR\n",
    "    var_99 = z_score * vol_pred\n",
    "    var_estimates.append(var_99)\n",
    "    \n",
    "    # Store actual return for backtesting\n",
    "    realized_losses.append(returns.iloc[i])"
   ]
  },
  {
   "cell_type": "code",
   "execution_count": 154,
   "metadata": {},
   "outputs": [],
   "source": [
    "# Convert to DataFrame\n",
    "df_var = pd.DataFrame({\n",
    "    \"VaR_99\": var_estimates,\n",
    "    \"Realized_Loss\": realized_losses,\n",
    "    }, index=returns.index[window_size:])"
   ]
  },
  {
   "cell_type": "code",
   "execution_count": 155,
   "metadata": {},
   "outputs": [
    {
     "data": {
      "text/html": [
       "<div>\n",
       "<style scoped>\n",
       "    .dataframe tbody tr th:only-of-type {\n",
       "        vertical-align: middle;\n",
       "    }\n",
       "\n",
       "    .dataframe tbody tr th {\n",
       "        vertical-align: top;\n",
       "    }\n",
       "\n",
       "    .dataframe thead th {\n",
       "        text-align: right;\n",
       "    }\n",
       "</style>\n",
       "<table border=\"1\" class=\"dataframe\">\n",
       "  <thead>\n",
       "    <tr style=\"text-align: right;\">\n",
       "      <th></th>\n",
       "      <th>VaR_99</th>\n",
       "      <th>Realized_Loss</th>\n",
       "    </tr>\n",
       "    <tr>\n",
       "      <th>Date</th>\n",
       "      <th></th>\n",
       "      <th></th>\n",
       "    </tr>\n",
       "  </thead>\n",
       "  <tbody>\n",
       "    <tr>\n",
       "      <th>2018-11-06</th>\n",
       "      <td>-7.029856</td>\n",
       "      <td>3.216047</td>\n",
       "    </tr>\n",
       "    <tr>\n",
       "      <th>2018-11-07</th>\n",
       "      <td>-6.955023</td>\n",
       "      <td>-0.453808</td>\n",
       "    </tr>\n",
       "    <tr>\n",
       "      <th>2018-11-08</th>\n",
       "      <td>-6.817757</td>\n",
       "      <td>-0.069931</td>\n",
       "    </tr>\n",
       "    <tr>\n",
       "      <th>2018-11-09</th>\n",
       "      <td>-6.673123</td>\n",
       "      <td>-1.843589</td>\n",
       "    </tr>\n",
       "    <tr>\n",
       "      <th>2018-11-12</th>\n",
       "      <td>-6.585528</td>\n",
       "      <td>-3.794207</td>\n",
       "    </tr>\n",
       "    <tr>\n",
       "      <th>...</th>\n",
       "      <td>...</td>\n",
       "      <td>...</td>\n",
       "    </tr>\n",
       "    <tr>\n",
       "      <th>2024-12-25</th>\n",
       "      <td>-7.165869</td>\n",
       "      <td>4.099185</td>\n",
       "    </tr>\n",
       "    <tr>\n",
       "      <th>2024-12-26</th>\n",
       "      <td>-7.314662</td>\n",
       "      <td>-3.682105</td>\n",
       "    </tr>\n",
       "    <tr>\n",
       "      <th>2024-12-27</th>\n",
       "      <td>-7.358897</td>\n",
       "      <td>1.687962</td>\n",
       "    </tr>\n",
       "    <tr>\n",
       "      <th>2024-12-30</th>\n",
       "      <td>-7.277879</td>\n",
       "      <td>3.931083</td>\n",
       "    </tr>\n",
       "    <tr>\n",
       "      <th>2024-12-31</th>\n",
       "      <td>-7.378440</td>\n",
       "      <td>-0.659435</td>\n",
       "    </tr>\n",
       "  </tbody>\n",
       "</table>\n",
       "<p>1606 rows × 2 columns</p>\n",
       "</div>"
      ],
      "text/plain": [
       "              VaR_99  Realized_Loss\n",
       "Date                               \n",
       "2018-11-06 -7.029856       3.216047\n",
       "2018-11-07 -6.955023      -0.453808\n",
       "2018-11-08 -6.817757      -0.069931\n",
       "2018-11-09 -6.673123      -1.843589\n",
       "2018-11-12 -6.585528      -3.794207\n",
       "...              ...            ...\n",
       "2024-12-25 -7.165869       4.099185\n",
       "2024-12-26 -7.314662      -3.682105\n",
       "2024-12-27 -7.358897       1.687962\n",
       "2024-12-30 -7.277879       3.931083\n",
       "2024-12-31 -7.378440      -0.659435\n",
       "\n",
       "[1606 rows x 2 columns]"
      ]
     },
     "execution_count": 155,
     "metadata": {},
     "output_type": "execute_result"
    }
   ],
   "source": [
    "df_var"
   ]
  },
  {
   "cell_type": "code",
   "execution_count": 156,
   "metadata": {},
   "outputs": [],
   "source": [
    "df_var[\"Breach\"] = df_var[\"Realized_Loss\"] < df_var[\"VaR_99\"]\n",
    "n_breaches = df_var[\"Breach\"].sum()\n",
    "n_obs = len(df_var)"
   ]
  },
  {
   "cell_type": "code",
   "execution_count": 157,
   "metadata": {},
   "outputs": [],
   "source": [
    "p_fail = 1 - confid_lvl\n",
    "obs_fail_rate = n_breaches / n_obs\n",
    "LR_uc = -2 * (np.log((1 - p_fail) ** (n_obs - n_breaches) * p_fail ** n_breaches) -\n",
    "              np.log((1 - obs_fail_rate) ** (n_obs - n_breaches) * obs_fail_rate ** n_breaches))"
   ]
  },
  {
   "cell_type": "code",
   "execution_count": 158,
   "metadata": {},
   "outputs": [],
   "source": [
    "p_val = 1 - chi2.cdf(LR_uc, df=1)"
   ]
  },
  {
   "cell_type": "code",
   "execution_count": 159,
   "metadata": {},
   "outputs": [
    {
     "name": "stdout",
     "output_type": "stream",
     "text": [
      "Percentage of VaR Breaches: 1.37%\n",
      "Kupiec Test Statistic: 1.989\n",
      "p-Value: 0.158\n"
     ]
    }
   ],
   "source": [
    "print(f\"Percentage of VaR Breaches: {n_breaches / n_obs:.2%}\")\n",
    "print(f\"Kupiec Test Statistic: {LR_uc:.3f}\")\n",
    "print(f\"p-Value: {p_val:.3f}\")"
   ]
  },
  {
   "cell_type": "markdown",
   "metadata": {},
   "source": [
    "There we go! Now we cannot reject the Null and the expected violation rate is statistically equal to the observed violation rate. This indicates that our model is well calibrated."
   ]
  }
 ],
 "metadata": {
  "kernelspec": {
   "display_name": ".venv",
   "language": "python",
   "name": "python3"
  },
  "language_info": {
   "codemirror_mode": {
    "name": "ipython",
    "version": 3
   },
   "file_extension": ".py",
   "mimetype": "text/x-python",
   "name": "python",
   "nbconvert_exporter": "python",
   "pygments_lexer": "ipython3",
   "version": "3.13.2"
  }
 },
 "nbformat": 4,
 "nbformat_minor": 2
}
